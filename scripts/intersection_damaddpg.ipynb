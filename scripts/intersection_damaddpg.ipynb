{
 "cells": [
  {
   "cell_type": "markdown",
   "metadata": {
    "colab_type": "text",
    "id": "QKWvMXWMBEJA"
   },
   "source": [
    "# Behavioural Planning for Autonomous Highway Driving\n",
    "\n",
    "We plan a trajectory using the _Optimistic Planning for Deterministic systems_ ([OPD](https://hal.inria.fr/hal-00830182)) algorithm.\n",
    "\n",
    "##  Setup\n",
    "\n",
    "We first import useful modules for the environment, agent, and visualization."
   ]
  },
  {
   "cell_type": "code",
   "execution_count": 1,
   "metadata": {
    "colab": {},
    "colab_type": "code",
    "id": "s-ghXis6A_md"
   },
   "outputs": [
    {
     "name": "stdout",
     "output_type": "stream",
     "text": [
      "pygame 1.9.6\n",
      "Hello from the pygame community. https://www.pygame.org/contribute.html\n"
     ]
    }
   ],
   "source": [
    "import gym\n",
    "import sys\n",
    "sys.path.append(\"/home/baiming/highway_multiagent_env\") \n",
    "sys.path.append(\"C://Users//baiming//Seafile//THUFile//Papers//highway_env_multiagent\") \n",
    "import highway_env\n",
    "\n",
    "from agent import Agent\n",
    "\n",
    "import torch\n",
    "from torch import optim\n",
    "import numpy as np \n",
    "\n",
    "from tqdm import tnrange\n",
    "# from utils import record_videos,  capture_intermediate_frames\n",
    "\n",
    "import argparse\n",
    "import torch\n",
    "import time\n",
    "import os\n",
    "import numpy as np\n",
    "from gym.spaces import Box, Discrete\n",
    "from pathlib import Path\n",
    "from torch.autograd import Variable\n",
    "from tensorboardX import SummaryWriter\n",
    "# from utils.make_env import make_env\n",
    "from utils.buffer import ReplayBuffer\n",
    "# from utils.env_wrappers import SubprocVecEnv, DummyVecEnv\n",
    "from algorithms.maddpg import MADDPG\n"
   ]
  },
  {
   "cell_type": "code",
   "execution_count": 2,
   "metadata": {},
   "outputs": [],
   "source": [
    "from IPython.display import clear_output\n",
    "import matplotlib.pyplot as plt\n",
    "%matplotlib inline\n",
    "\n",
    "def plot(frame_idx, rewards):\n",
    "    clear_output(True)\n",
    "    plt.figure(figsize=(20,5))\n",
    "    plt.subplot(131)\n",
    "    plt.title('frame %s. reward: %s' % (frame_idx, rewards[-1]))\n",
    "    plt.plot(rewards)\n",
    "#     plt.subplot(132)\n",
    "#     plt.title('frame %s. loss: %s' % (frame_idx, losses[-1]))\n",
    "#     plt.plot(losses)\n",
    "    plt.show()"
   ]
  },
  {
   "cell_type": "code",
   "execution_count": 4,
   "metadata": {},
   "outputs": [
    {
     "name": "stderr",
     "output_type": "stream",
     "text": [
      "/home/baiming/anaconda3/envs/highway/lib/python3.7/site-packages/gym/logger.py:30: UserWarning: \u001b[33mWARN: Box bound precision lowered by casting to float32\u001b[0m\n",
      "  warnings.warn(colorize('%s: %s'%('WARN', msg % args), 'yellow'))\n"
     ]
    }
   ],
   "source": [
    "model_dir = Path('./models') \n",
    "run_dir = model_dir \n",
    "log_dir = run_dir / 'logs10'\n",
    "os.makedirs(log_dir)\n",
    "logger = SummaryWriter(str(log_dir))\n",
    "\n",
    "torch.manual_seed(12)\n",
    "np.random.seed(12)\n",
    "env = gym.make(\"intersection-multiagent-v0\")\n",
    "# print(env.action_space, env.observation_space)\n",
    "maddpg = MADDPG.init_from_env(env, agent_alg='DDPG',\n",
    "                              adversary_alg='DDPG',\n",
    "                              tau=0.01,\n",
    "                              lr=0.01,\n",
    "                              hidden_dim=64)\n",
    "replay_buffer = ReplayBuffer(int(1e6), maddpg.nagents,\n",
    "                             [obsp.shape[0] for obsp in env.observation_space],\n",
    "                             [acsp.shape[0] if isinstance(acsp, Box) else acsp.n\n",
    "                              for acsp in env.action_space])"
   ]
  },
  {
   "cell_type": "code",
   "execution_count": 5,
   "metadata": {
    "scrolled": false
   },
   "outputs": [
    {
     "data": {
      "image/png": "[encoded data removed]",
      "text/plain": [
       "<Figure size 1440x360 with 1 Axes>"
      ]
     },
     "metadata": {
      "needs_background": "light"
     },
     "output_type": "display_data"
    },
    {
     "ename": "KeyboardInterrupt",
     "evalue": "",
     "output_type": "error",
     "traceback": [
      "\u001b[0;31m---------------------------------------------------------------------------\u001b[0m",
      "\u001b[0;31mKeyboardInterrupt\u001b[0m                         Traceback (most recent call last)",
      "\u001b[0;32m<ipython-input-5-ec1cc3de6bda>\u001b[0m in \u001b[0;36m<module>\u001b[0;34m\u001b[0m\n\u001b[1;32m     51\u001b[0m                                                   to_gpu=True)\n\u001b[1;32m     52\u001b[0m                     \u001b[0mmaddpg\u001b[0m\u001b[0;34m.\u001b[0m\u001b[0mupdate\u001b[0m\u001b[0;34m(\u001b[0m\u001b[0msample\u001b[0m\u001b[0;34m,\u001b[0m \u001b[0ma_i\u001b[0m\u001b[0;34m,\u001b[0m \u001b[0mlogger\u001b[0m\u001b[0;34m=\u001b[0m\u001b[0mlogger\u001b[0m\u001b[0;34m)\u001b[0m\u001b[0;34m\u001b[0m\u001b[0;34m\u001b[0m\u001b[0m\n\u001b[0;32m---> 53\u001b[0;31m                 \u001b[0mmaddpg\u001b[0m\u001b[0;34m.\u001b[0m\u001b[0mupdate_all_targets\u001b[0m\u001b[0;34m(\u001b[0m\u001b[0;34m)\u001b[0m\u001b[0;34m\u001b[0m\u001b[0;34m\u001b[0m\u001b[0m\n\u001b[0m\u001b[1;32m     54\u001b[0m                 \u001b[0mmaddpg\u001b[0m\u001b[0;34m.\u001b[0m\u001b[0mprep_rollouts\u001b[0m\u001b[0;34m(\u001b[0m\u001b[0mdevice\u001b[0m\u001b[0;34m=\u001b[0m\u001b[0;34m'gpu'\u001b[0m\u001b[0;34m)\u001b[0m\u001b[0;34m\u001b[0m\u001b[0;34m\u001b[0m\u001b[0m\n\u001b[1;32m     55\u001b[0m \u001b[0;31m#     ep_rews = replay_buffer.get_average_rewards(100)\u001b[0m\u001b[0;34m\u001b[0m\u001b[0;34m\u001b[0m\u001b[0;34m\u001b[0m\u001b[0m\n",
      "\u001b[0;32m~/highway_multiagent_env/scripts/algorithms/maddpg.py\u001b[0m in \u001b[0;36mupdate_all_targets\u001b[0;34m(self)\u001b[0m\n\u001b[1;32m    183\u001b[0m         \"\"\"\n\u001b[1;32m    184\u001b[0m         \u001b[0;32mfor\u001b[0m \u001b[0ma\u001b[0m \u001b[0;32min\u001b[0m \u001b[0mself\u001b[0m\u001b[0;34m.\u001b[0m\u001b[0magents\u001b[0m\u001b[0;34m:\u001b[0m\u001b[0;34m\u001b[0m\u001b[0;34m\u001b[0m\u001b[0m\n\u001b[0;32m--> 185\u001b[0;31m             \u001b[0msoft_update\u001b[0m\u001b[0;34m(\u001b[0m\u001b[0ma\u001b[0m\u001b[0;34m.\u001b[0m\u001b[0mtarget_critic\u001b[0m\u001b[0;34m,\u001b[0m \u001b[0ma\u001b[0m\u001b[0;34m.\u001b[0m\u001b[0mcritic\u001b[0m\u001b[0;34m,\u001b[0m \u001b[0mself\u001b[0m\u001b[0;34m.\u001b[0m\u001b[0mtau\u001b[0m\u001b[0;34m)\u001b[0m\u001b[0;34m\u001b[0m\u001b[0;34m\u001b[0m\u001b[0m\n\u001b[0m\u001b[1;32m    186\u001b[0m             \u001b[0msoft_update\u001b[0m\u001b[0;34m(\u001b[0m\u001b[0ma\u001b[0m\u001b[0;34m.\u001b[0m\u001b[0mtarget_policy\u001b[0m\u001b[0;34m,\u001b[0m \u001b[0ma\u001b[0m\u001b[0;34m.\u001b[0m\u001b[0mpolicy\u001b[0m\u001b[0;34m,\u001b[0m \u001b[0mself\u001b[0m\u001b[0;34m.\u001b[0m\u001b[0mtau\u001b[0m\u001b[0;34m)\u001b[0m\u001b[0;34m\u001b[0m\u001b[0;34m\u001b[0m\u001b[0m\n\u001b[1;32m    187\u001b[0m         \u001b[0mself\u001b[0m\u001b[0;34m.\u001b[0m\u001b[0mniter\u001b[0m \u001b[0;34m+=\u001b[0m \u001b[0;36m1\u001b[0m\u001b[0;34m\u001b[0m\u001b[0;34m\u001b[0m\u001b[0m\n",
      "\u001b[0;32m~/highway_multiagent_env/scripts/utils/misc.py\u001b[0m in \u001b[0;36msoft_update\u001b[0;34m(target, source, tau)\u001b[0m\n\u001b[1;32m     17\u001b[0m     \"\"\"\n\u001b[1;32m     18\u001b[0m     \u001b[0;32mfor\u001b[0m \u001b[0mtarget_param\u001b[0m\u001b[0;34m,\u001b[0m \u001b[0mparam\u001b[0m \u001b[0;32min\u001b[0m \u001b[0mzip\u001b[0m\u001b[0;34m(\u001b[0m\u001b[0mtarget\u001b[0m\u001b[0;34m.\u001b[0m\u001b[0mparameters\u001b[0m\u001b[0;34m(\u001b[0m\u001b[0;34m)\u001b[0m\u001b[0;34m,\u001b[0m \u001b[0msource\u001b[0m\u001b[0;34m.\u001b[0m\u001b[0mparameters\u001b[0m\u001b[0;34m(\u001b[0m\u001b[0;34m)\u001b[0m\u001b[0;34m)\u001b[0m\u001b[0;34m:\u001b[0m\u001b[0;34m\u001b[0m\u001b[0;34m\u001b[0m\u001b[0m\n\u001b[0;32m---> 19\u001b[0;31m         \u001b[0mtarget_param\u001b[0m\u001b[0;34m.\u001b[0m\u001b[0mdata\u001b[0m\u001b[0;34m.\u001b[0m\u001b[0mcopy_\u001b[0m\u001b[0;34m(\u001b[0m\u001b[0mtarget_param\u001b[0m\u001b[0;34m.\u001b[0m\u001b[0mdata\u001b[0m \u001b[0;34m*\u001b[0m \u001b[0;34m(\u001b[0m\u001b[0;36m1.0\u001b[0m \u001b[0;34m-\u001b[0m \u001b[0mtau\u001b[0m\u001b[0;34m)\u001b[0m \u001b[0;34m+\u001b[0m \u001b[0mparam\u001b[0m\u001b[0;34m.\u001b[0m\u001b[0mdata\u001b[0m \u001b[0;34m*\u001b[0m \u001b[0mtau\u001b[0m\u001b[0;34m)\u001b[0m\u001b[0;34m\u001b[0m\u001b[0;34m\u001b[0m\u001b[0m\n\u001b[0m\u001b[1;32m     20\u001b[0m \u001b[0;34m\u001b[0m\u001b[0m\n\u001b[1;32m     21\u001b[0m \u001b[0;31m# https://github.com/ikostrikov/pytorch-ddpg-naf/blob/master/ddpg.py#L15\u001b[0m\u001b[0;34m\u001b[0m\u001b[0;34m\u001b[0m\u001b[0;34m\u001b[0m\u001b[0m\n",
      "\u001b[0;31mKeyboardInterrupt\u001b[0m: "
     ]
    }
   ],
   "source": [
    "t = 0\n",
    "returns = []\n",
    "for ep_i in range(25000):\n",
    "#     print(\"Episodes %i-%i of %i\" % (ep_i + 1,\n",
    "#                                     ep_i + 2,\n",
    "#                                     200))\n",
    "    obs = env.reset()\n",
    "    # obs.shape = (n_rollout_threads, nagent)(nobs), nobs differs per agent so not tensor\n",
    "    maddpg.prep_rollouts(device='gpu')\n",
    "    \n",
    "    explr_pct_remaining = max(0, 20000 - ep_i) / 20000\n",
    "    maddpg.scale_noise(0.3 * explr_pct_remaining)\n",
    "    maddpg.reset_noise()\n",
    "    \n",
    "    sum_reward = 0\n",
    "\n",
    "    agent_obs = []\n",
    "    for i in range(4):\n",
    "        agent_obs.append(np.array([obs[i%4], obs[(i+1)%4], obs[(i+2)%4], obs[(i+3)%4]]).flatten())\n",
    "    obs = np.array([agent_obs])\n",
    "\n",
    "    for et_i in range(100):\n",
    "#         print(obs)\n",
    "        torch_obs = [torch.FloatTensor(np.vstack(obs[:, i])) for i in range(maddpg.nagents)]\n",
    "#         print(torch_obs)\n",
    "        torch_agent_actions = maddpg.step(torch_obs, explore=True)\n",
    "        # convert actions to numpy arrays\n",
    "        agent_actions = [ac.data.numpy() for ac in torch_agent_actions]\n",
    "        # rearrange actions to be per environment\n",
    "        actions = [np.argmax(agent_actions[i][0]) for i in range(4)]\n",
    "#         print(actions)\n",
    "        next_obs, rewards, dones, infos = env.step(actions)\n",
    "#         print(infos)\n",
    "        sum_reward += rewards[0][0]\n",
    "#         print(obs, agent_actions, rewards, next_obs, dones)\n",
    "#         print(type(obs))\n",
    "        replay_buffer.push(obs, agent_actions, rewards, next_obs, dones)\n",
    "        if dones[0][0]:\n",
    "            break\n",
    "        obs = next_obs\n",
    "        t += 1\n",
    "        if (len(replay_buffer) >= 256 and (t % 20) < 1):\n",
    "            if True:\n",
    "                maddpg.prep_training(device='gpu')\n",
    "            else:\n",
    "                maddpg.prep_training(device='cpu')\n",
    "            for u_i in range(1):\n",
    "\n",
    "                for a_i in range(maddpg.nagents): \n",
    "                    sample = replay_buffer.sample(256,\n",
    "                                                  to_gpu=True)\n",
    "                    maddpg.update(sample, a_i, logger=logger)\n",
    "                maddpg.update_all_targets()\n",
    "                maddpg.prep_rollouts(device='gpu')\n",
    "#     ep_rews = replay_buffer.get_average_rewards(100)\n",
    "    returns.append(sum_reward)\n",
    "#     print(sum_reward)\n",
    "    \n",
    "#     print(ep_rews)\n",
    "#     for a_i, a_ep_rew in enumerate(ep_rews):\n",
    "#         # logger.add_scalar('agent%i/mean_episode_rewards' % a_i, a_ep_rew, ep_i)\n",
    "#         logger.add_scalars('agent%i/mean_episode_rewards' % a_i, {'reward': a_ep_rew}, ep_i)\n",
    "\n",
    "#     if ep_i % config.save_interval < config.n_rollout_threads:\n",
    "#         os.makedirs(run_dir / 'incremental', exist_ok=True)\n",
    "#         maddpg.save(run_dir / 'incremental' / ('model_ep%i.pt' % (ep_i + 1)))\n",
    "#         maddpg.save(run_dir / 'model.pt')\n",
    "    plot(ep_i, returns)\n",
    "# maddpg.save(run_dir / 'model.pt')\n",
    "env.close()\n",
    "# logger.export_scalars_to_json(str(log_dir / 'summary.json'))\n",
    "# logger.close()\n",
    "\n",
    "# obs, reward, terminal, info"
   ]
  },
  {
   "cell_type": "code",
   "execution_count": 6,
   "metadata": {},
   "outputs": [],
   "source": [
    "maddpg.save(run_dir / 'model.pt')"
   ]
  },
  {
   "cell_type": "code",
   "execution_count": 19,
   "metadata": {},
   "outputs": [],
   "source": [
    "model_dir = Path('./models') \n",
    "run_dir = model_dir \n",
    "log_dir = run_dir / 'logs9'\n",
    "os.makedirs(log_dir)\n",
    "logger = SummaryWriter(str(log_dir))\n",
    "\n",
    "torch.manual_seed(12)\n",
    "np.random.seed(12)\n",
    "env = gym.make(\"intersection-multiagent-v0\")\n",
    "# print(env.action_space, env.observation_space)\n",
    "\n",
    "\n",
    "\n",
    "maddpg = MADDPG.init_from_env(env, agent_alg='MADDPG',\n",
    "                              adversary_alg='MADDPG',\n",
    "                              tau=0.01,\n",
    "                              lr=0.01,\n",
    "                              hidden_dim=64)\n",
    "replay_buffer = ReplayBuffer(int(1e6), maddpg.nagents,\n",
    "                             [obsp.shape[0] for obsp in env.observation_space],\n",
    "                             [acsp.shape[0] if isinstance(acsp, Box) else acsp.n\n",
    "                              for acsp in env.action_space])"
   ]
  },
  {
   "cell_type": "code",
   "execution_count": 20,
   "metadata": {},
   "outputs": [
    {
     "data": {
      "image/png": "[encoded data removed]",
      "text/plain": [
       "<Figure size 1440x360 with 1 Axes>"
      ]
     },
     "metadata": {
      "needs_background": "light"
     },
     "output_type": "display_data"
    }
   ],
   "source": [
    "import gym\n",
    "import sys\n",
    "sys.path.append(\"/home/baiming/highway_multiagent_env\") \n",
    "sys.path.append(\"C://Users//baiming//Seafile//THUFile//Papers//highway_env_multiagent\") \n",
    "import highway_env\n",
    "\n",
    "from agent import Agent\n",
    "\n",
    "import torch\n",
    "from torch import optim\n",
    "import numpy as np \n",
    "\n",
    "from tqdm import tnrange\n",
    "# from utils import record_videos,  capture_intermediate_frames\n",
    "\n",
    "import argparse\n",
    "import torch\n",
    "import time\n",
    "import os\n",
    "import numpy as np\n",
    "from gym.spaces import Box, Discrete\n",
    "from pathlib import Path\n",
    "from torch.autograd import Variable\n",
    "from tensorboardX import SummaryWriter\n",
    "# from utils.make_env import make_env\n",
    "from utils.buffer import ReplayBuffer\n",
    "# from utils.env_wrappers import SubprocVecEnv, DummyVecEnv\n",
    "from algorithms.maddpg import MADDPG\n",
    "\n",
    "t = 0\n",
    "returns = []\n",
    "for ep_i in range(2500):\n",
    "#     print(\"Episodes %i-%i of %i\" % (ep_i + 1,\n",
    "#                                     ep_i + 2,\n",
    "#                                     200))\n",
    "    obs = env.reset()\n",
    "    # obs.shape = (n_rollout_threads, nagent)(nobs), nobs differs per agent so not tensor\n",
    "    maddpg.prep_rollouts(device='gpu')\n",
    "    \n",
    "    explr_pct_remaining = max(0, 2000 - ep_i) / 2000\n",
    "    maddpg.scale_noise(0.3 * explr_pct_remaining)\n",
    "    maddpg.reset_noise()\n",
    "    \n",
    "    sum_reward = 0\n",
    "\n",
    "    agent_obs = []\n",
    "    for i in range(4):\n",
    "        agent_obs.append(np.array([obs[i%4], obs[(i+1)%4], obs[(i+2)%4], obs[(i+3)%4]]).flatten())\n",
    "    obs = np.array([agent_obs])\n",
    "\n",
    "    for et_i in range(100):\n",
    "#         print(obs)\n",
    "        torch_obs = [torch.FloatTensor(np.vstack(obs[:, i])) for i in range(maddpg.nagents)]\n",
    "#         print(torch_obs)\n",
    "        torch_agent_actions = maddpg.step(torch_obs, explore=True)\n",
    "        # convert actions to numpy arrays\n",
    "        agent_actions = [ac.data.numpy() for ac in torch_agent_actions]\n",
    "        # rearrange actions to be per environment\n",
    "        actions = [np.argmax(agent_actions[i][0]) for i in range(4)]\n",
    "#         print(actions)\n",
    "        next_obs, rewards, dones, infos = env.step(actions)\n",
    "#         print(infos)\n",
    "        sum_reward += rewards[0][0]\n",
    "#         print(obs, agent_actions, rewards, next_obs, dones)\n",
    "#         print(type(obs))\n",
    "        replay_buffer.push(obs, agent_actions, rewards, next_obs, dones)\n",
    "        if dones[0][0]:\n",
    "            break\n",
    "        obs = next_obs\n",
    "        t += 1\n",
    "        if (len(replay_buffer) >= 256 and (t % 20) < 1):\n",
    "            if True:\n",
    "                maddpg.prep_training(device='gpu')\n",
    "            else:\n",
    "                maddpg.prep_training(device='cpu')\n",
    "            for u_i in range(1):\n",
    "\n",
    "                for a_i in range(maddpg.nagents): \n",
    "                    sample = replay_buffer.sample(256,\n",
    "                                                  to_gpu=True)\n",
    "                    maddpg.update(sample, a_i, logger=logger)\n",
    "                maddpg.update_all_targets()\n",
    "                maddpg.prep_rollouts(device='gpu')\n",
    "#     ep_rews = replay_buffer.get_average_rewards(100)\n",
    "    returns.append(sum_reward)\n",
    "#     print(sum_reward)\n",
    "    \n",
    "#     print(ep_rews)\n",
    "#     for a_i, a_ep_rew in enumerate(ep_rews):\n",
    "#         # logger.add_scalar('agent%i/mean_episode_rewards' % a_i, a_ep_rew, ep_i)\n",
    "#         logger.add_scalars('agent%i/mean_episode_rewards' % a_i, {'reward': a_ep_rew}, ep_i)\n",
    "\n",
    "#     if ep_i % config.save_interval < config.n_rollout_threads:\n",
    "#         os.makedirs(run_dir / 'incremental', exist_ok=True)\n",
    "#         maddpg.save(run_dir / 'incremental' / ('model_ep%i.pt' % (ep_i + 1)))\n",
    "#         maddpg.save(run_dir / 'model.pt')\n",
    "    plot(ep_i, returns)\n",
    "# maddpg.save(run_dir / 'model.pt')\n",
    "env.close()\n",
    "# logger.export_scalars_to_json(str(log_dir / 'summary.json'))\n",
    "# logger.close()\n",
    "\n",
    "# obs, reward, terminal, info"
   ]
  },
  {
   "cell_type": "code",
   "execution_count": 21,
   "metadata": {},
   "outputs": [],
   "source": [
    "maddpg.save(run_dir / 'model.pt')"
   ]
  },
  {
   "cell_type": "code",
   "execution_count": null,
   "metadata": {},
   "outputs": [],
   "source": [
    "    model_path = (Path('./models') / config.env_id / config.model_name /\n",
    "                  ('run%i' % config.run_num))\n",
    "    if config.incremental is not None:\n",
    "        model_path = model_path / 'incremental' / ('model_ep%i.pt' %\n",
    "                                                   config.incremental)\n",
    "    else:\n",
    "        model_path = model_path / 'model.pt'\n",
    "\n",
    "    if config.save_gifs:\n",
    "        gif_path = model_path.parent / 'gifs'\n",
    "        gif_path.mkdir(exist_ok=True)\n",
    "\n",
    "    maddpg = MADDPG.init_from_save(model_path)"
   ]
  },
  {
   "cell_type": "code",
   "execution_count": null,
   "metadata": {},
   "outputs": [],
   "source": [
    "env = gym.make(\"intersection-multiagent-v0\")\n",
    "model_path = (Path('./models') / config.env_id / config.model_name /\n",
    "              ('run%i' % config.run_num))\n",
    "if config.incremental is not None:\n",
    "    model_path = model_path / 'incremental' / ('model_ep%i.pt' %\n",
    "                                               config.incremental)\n",
    "else:\n",
    "    model_path = model_path / 'model.pt'\n",
    "\n",
    "if config.save_gifs:\n",
    "    gif_path = model_path.parent / 'gifs'\n",
    "    gif_path.mkdir(exist_ok=True)\n",
    "\n",
    "maddpg = MADDPG.init_from_save(model_path)\n",
    "\n",
    "t = 0\n",
    "returns = []\n",
    "for ep_i in range(2500):\n",
    "    obs = env.reset()\n",
    "    maddpg.prep_rollouts(device='gpu')\n",
    "    sum_reward = 0\n",
    "    agent_obs = []\n",
    "    for i in range(4):\n",
    "        agent_obs.append(np.array([obs[i%4], obs[(i+1)%4], obs[(i+2)%4], obs[(i+3)%4]]).flatten())\n",
    "    obs = np.array([agent_obs])\n",
    "\n",
    "    for et_i in range(100):\n",
    "        torch_obs = [torch.FloatTensor(np.vstack(obs[:, i])) for i in range(maddpg.nagents)]\n",
    "        torch_agent_actions = maddpg.step(torch_obs, explore=False)\n",
    "        agent_actions = [ac.data.numpy() for ac in torch_agent_actions]\n",
    "        actions = [np.argmax(agent_actions[i][0]) for i in range(4)]\n",
    "        next_obs, rewards, dones, infos = env.step(actions)\n",
    "        sum_reward += rewards[0][0]\n",
    "        if dones[0][0]:\n",
    "            break\n",
    "        obs = next_obs\n",
    "        t += 1\n",
    "    returns.append(sum_reward)\n",
    "env.close()"
   ]
  }
 ],
 "metadata": {
  "colab": {
   "name": "highway-planning.ipynb",
   "provenance": [],
   "version": "0.3.2"
  },
  "kernelspec": {
   "display_name": "Python 3",
   "language": "python",
   "name": "python3"
  },
  "language_info": {
   "codemirror_mode": {
    "name": "ipython",
    "version": 3
   },
   "file_extension": ".py",
   "mimetype": "text/x-python",
   "name": "python",
   "nbconvert_exporter": "python",
   "pygments_lexer": "ipython3",
   "version": "3.7.7"
  },
  "pycharm": {
   "stem_cell": {
    "cell_type": "raw",
    "metadata": {
     "collapsed": false
    },
    "source": []
   }
  }
 },
 "nbformat": 4,
 "nbformat_minor": 1
}
